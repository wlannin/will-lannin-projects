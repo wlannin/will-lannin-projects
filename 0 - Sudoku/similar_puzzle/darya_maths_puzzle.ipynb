{
 "cells": [
  {
   "cell_type": "markdown",
   "metadata": {},
   "source": [
    "# Correct Defined Space Coordinates"
   ]
  },
  {
   "cell_type": "code",
   "execution_count": 1,
   "metadata": {},
   "outputs": [
    {
     "name": "stdout",
     "output_type": "stream",
     "text": [
      "[(0, 1), (0, 2), (0, 3), (0, 4), (1, 2), (1, 4), (1, 5), (2, 3), (2, 5), (3, 4), (3, 5), (4, 5)]\n",
      "{0: [(0, 1), (0, 2), (0, 3), (0, 4)], 1: [(0, 1), (1, 2), (1, 4), (1, 5)], 2: [(0, 2), (1, 2), (2, 3), (2, 5)], 3: [(0, 3), (2, 3), (3, 4), (3, 5)], 4: [(0, 4), (1, 4), (3, 4), (4, 5)], 5: [(1, 5), (2, 5), (3, 5), (4, 5)]}\n"
     ]
    }
   ],
   "source": [
    "# these are the labels I have given the lines in my pic (A=0, B=1,... etc)\n",
    "lines = [0,1,2,3,4,5]\n",
    "\n",
    "# every space on the board can be uniquely described by the 2 lines that intersect at that space\n",
    "# however, some line intersections do not exist since the shape is a star, so I manually type them here\n",
    "spaces_list = [(0,1),(0,2),(0,3),(0,4),\n",
    "               (1,2),(1,5),(1,4),\n",
    "               (2,3),(2,5),\n",
    "               (3,4),(3,5),\n",
    "               (4,5)]\n",
    "spaces_list.sort()  #order the spaces\n",
    "print(spaces_list)\n",
    "\n",
    "# create a dict to track which numbers we have placed in each space (starting them as 0 for default)\n",
    "my_gameboard = {space:0 for space in spaces_list}\n",
    "\n",
    "# make a dictionary that tells us the spaces contained in each line\n",
    "line_spaces = {l:[space for space in my_gameboard.keys() if l in space] for l in lines}\n",
    "print(line_spaces)\n",
    "\n"
   ]
  },
  {
   "cell_type": "markdown",
   "metadata": {},
   "source": [
    "# Object Oriented"
   ]
  },
  {
   "cell_type": "code",
   "execution_count": 2,
   "metadata": {},
   "outputs": [],
   "source": [
    "# function converting integers to 2 digit strings\n",
    "def myconv(x):\n",
    "    if x < 10:\n",
    "        return '0' + str(x)\n",
    "    else:\n",
    "        return str(x)\n"
   ]
  },
  {
   "cell_type": "code",
   "execution_count": 3,
   "metadata": {},
   "outputs": [],
   "source": [
    "class Shrey:\n",
    "    def __init__(self):\n",
    "        # these are the labels I have given the lines in my pic (A=0, B=1,... etc)\n",
    "        self.lines = [0,1,2,3,4,5]\n",
    "        # every space on the board can be uniquely described by the 2 lines that intersect at that space\n",
    "        # however, some line intersections do not exist since the shape is a star, so I manually type them here\n",
    "        self.spaces_list = [(0,1),(0,2),(0,3),(0,4),\n",
    "                    (1,2),(1,5),(1,4),\n",
    "                    (2,3),(2,5),\n",
    "                    (3,4),(3,5),\n",
    "                    (4,5)]\n",
    "        self.spaces_list.sort()  #order the spaces\n",
    "        # create a dict to track which numbers we have placed in each space (starting them as 0 for default)\n",
    "        self.gameboard = {space:0 for space in self.spaces_list}\n",
    "        # make a dictionary that tells us the spaces contained in each line\n",
    "        self.line_spaces = {l:[space for space in self.gameboard.keys() if l in space] for l in self.lines}\n",
    "        # numbers used to solve\n",
    "        nums = [1,2,3,4,5,6,7,8,9,10,11,12]\n",
    "        #start avail_nums as listing all numbers available for all spaces\n",
    "        self.avail_nums = {space:nums for space in self.gameboard}\n",
    "        # create a history of which numbers we have placed in which spaces so far\n",
    "        # the history is a list of tuples (space,n), telling us which n has been placed in each space\n",
    "        # the 0th element will be the first placement we did, and ith element is the ith\n",
    "        self.history = []\n",
    "        # space the backtracking algo is currently trying to fill\n",
    "        self.focus_space = (0,1)  #initialise as 0,1\n",
    "\n",
    "    # method to view the star puzzle, with visualisation of what each line sums to\n",
    "    def view(self):\n",
    "        line_sums = [sum([self.gameboard[space] for space in self.line_spaces[l]]) for l in self.line_spaces]    \n",
    "        print(f'''\n",
    "                       (={line_sums[0]})\n",
    "           (={line_sums[3]})       {myconv(self.gameboard[(0,1)])}  \n",
    "              {myconv(self.gameboard[(2,3)])}   {myconv(self.gameboard[(0,2)])}   {myconv(self.gameboard[(1,2)])}   {myconv(self.gameboard[(2,5)])} (={line_sums[2]}) \n",
    "                 {myconv(self.gameboard[(0,3)])}        {myconv(self.gameboard[(1,5)])}\n",
    "        (={line_sums[4]})  {myconv(self.gameboard[(0,4)])}   {myconv(self.gameboard[(3,4)])}   {myconv(self.gameboard[(4,5)])}   {myconv(self.gameboard[(1,4)])} \n",
    "                      {myconv(self.gameboard[(3,5)])}      (={line_sums[1]})\n",
    "                  (={line_sums[5]})\n",
    "            \n",
    "        '''\n",
    "        )\n",
    "    \n",
    "    # function to check if the board is solved or not\n",
    "    def board_solved(self):\n",
    "        # sum the lines\n",
    "        line_sums = [sum([self.gameboard[space] for space in self.line_spaces[l]]) for l in self.line_spaces]    \n",
    "        # if they are all 26 then the board is solved\n",
    "        if line_sums == [26 for l in self.line_spaces]:\n",
    "            return True\n",
    "        else:\n",
    "            return False\n",
    "\n",
    "    # true or false, can we pace this number in this space?\n",
    "    def canplace_noloop(self,space,n):\n",
    "        # copy gameboard\n",
    "        gameboard_copy = self.gameboard.copy()\n",
    "        # place it and see if it cause the lines to sum to more than 26\n",
    "        gameboard_copy[space] = n\n",
    "        # sum the lines this space is part of\n",
    "        sums = [sum([gameboard_copy[spacei] for spacei in self.line_spaces[l]]) for l in space]\n",
    "        if True in [x>26 for x in sums]:\n",
    "            return False\n",
    "        # if both lines sum to less than 26, return true\n",
    "        return True\n",
    "\n",
    "    # grab the latest free space in avail_nums and loop though putting the available numbers in it\n",
    "    def tryplace_noloop(self,n_last=None, space_last=None):\n",
    "        # grab the first space that has 0 as its number (i.e. the first blank space)\n",
    "        space = [space for space in self.gameboard if self.gameboard[space] == 0][0]\n",
    "        # loop through the available numbers for this space and try placing them\n",
    "        for n in self.avail_nums[space]:\n",
    "            if self.canplace_noloop(space, n):\n",
    "                # place n in the free space since we know we can!\n",
    "                self.gameboard[space] = n  \n",
    "                # last n is this n\n",
    "                n_last = n\n",
    "                # last space is this space\n",
    "                space_last = space\n",
    "                # add this placement to history\n",
    "                self.history += [(space_last,n_last)]\n",
    "                # remove n from the available numbers of any remaining free spaces\n",
    "                self.avail_nums.update(\n",
    "                    {empty_space:[x for x in self.avail_nums[empty_space] if  x!= n] for empty_space in [\n",
    "                        space for space in self.gameboard if (self.gameboard[space] == 0) and space != space_last]\n",
    "                        }\n",
    "                )\n",
    "                return\n",
    "        # only reach here if none of the available numbers can go in this space, so we need to backtrack\n",
    "        self.gameboard[space_last] = 0  #reset last space, since the last space made the puzzle unsolveable\n",
    "        self.avail_nums[space_last] = [x for x in self.avail_nums[space_last] if x != n_last]  #remove n_last from avail_nums for this space\n",
    "        # now pull the numbers that haven't been used yet\n",
    "        used = [x for x in self.gameboard.values() if x!= 0]\n",
    "        not_used = list(set([1,2,3,4,5,6,7,8,9,10,11,12]) - set(used))  #utilising set-minus\n",
    "        # now reset the avail_nums of all spaces ahead of the last space, so that their avail_nums is now the not_used list\n",
    "        self.avail_nums.update({empty_space: not_used for empty_space in [\n",
    "            space for space in self.gameboard if (self.gameboard[space] == 0) and space != space_last]\n",
    "            }\n",
    "        )\n",
    "        # now grab n_last and space_last, which correspond to the latest space that has been filled\n",
    "        filled_spaces = [space for space in self.gameboard if self.gameboard[space] != 0]\n",
    "        filled_spaces.sort()  #sort it so our algorithm does each space in increasing order\n",
    "        # grab the first one if the list isn't empty\n",
    "        if filled_spaces != []:\n",
    "            space_last = filled_spaces[-1]\n",
    "            n_last = self.gameboard[space_last]\n",
    "            return\n",
    "        else:\n",
    "            # else we have the case where space_last is (0,0) i.e. the first space in the puzzle, so reset n_last and space_last to None\n",
    "            n_last = None\n",
    "            space_last = None\n",
    "    \n",
    "    # tryplace but using self.history\n",
    "    def tryplace_whist(self):\n",
    "        # grab the first space that has 0 as its number (i.e. the first blank space)\n",
    "        space = [space for space in self.gameboard if self.gameboard[space] == 0][0]\n",
    "        # loop through the available numbers for this space and try placing them\n",
    "        for n in self.avail_nums[space]:\n",
    "            if self.canplace_noloop(space, n):\n",
    "                # place n in the free space since we know we can!\n",
    "                self.gameboard[space] = n  \n",
    "                # add this placement to history\n",
    "                self.history += [(space,n)]\n",
    "                # remove n from the available numbers of any remaining free spaces\n",
    "                self.avail_nums.update(\n",
    "                    {empty_space:[x for x in self.avail_nums[empty_space] if  x!= n] for empty_space in [\n",
    "                        spacei for spacei in self.gameboard if (self.gameboard[spacei] == 0) and spacei != space]\n",
    "                        }\n",
    "                )\n",
    "                return\n",
    "        # only reach here if none of the available numbers can go in this space, so we need to backtrack\n",
    "        # grab most recent placement from history, or if there is none then return\n",
    "        (space_last,n_last) = self.history[-1]\n",
    "        self.gameboard[space_last] = 0  #reset last space, since the last space made the puzzle unsolveable\n",
    "        self.avail_nums[space_last] = [x for x in self.avail_nums[space_last] if x != n_last]  #remove n_last from avail_nums for this space\n",
    "        # and now remove this from history\n",
    "        self.history = self.history[:-1]\n",
    "        # now pull the numbers that haven't been used yet\n",
    "        used = [x for x in self.gameboard.values() if x!= 0]\n",
    "        not_used = list(set([1,2,3,4,5,6,7,8,9,10,11,12]) - set(used))  #utilising set-minus\n",
    "        # now reset the avail_nums of all spaces ahead of the last space, so that their avail_nums is now the not_used list\n",
    "        self.avail_nums.update({empty_space: not_used for empty_space in [\n",
    "            spacei for spacei in self.gameboard if (self.gameboard[spacei] == 0) and spacei != space_last]\n",
    "            }\n",
    "        )\n",
    "\n",
    "    # tryplace but using self.history and focus_space\n",
    "    def tryplace_focus(self):\n",
    "        # grab the focus_space\n",
    "        space = self.focus_space\n",
    "        # loop through the available numbers for this space and try placing them\n",
    "        for n in self.avail_nums[space]:\n",
    "            if self.canplace_noloop(space, n):\n",
    "                # place n in the free space since we know we can!\n",
    "                self.gameboard[space] = n  \n",
    "                # add this placement to history\n",
    "                self.history += [(space,n)]\n",
    "                # remove n from the available numbers of any remaining free spaces\n",
    "                self.avail_nums.update(\n",
    "                    {empty_space:[x for x in self.avail_nums[empty_space] if  x!= n] for empty_space in [\n",
    "                        spacei for spacei in self.gameboard if (self.gameboard[spacei] == 0) and spacei != space]\n",
    "                        }\n",
    "                )\n",
    "                # and set the focus space to be the next free space from the sorted list of free spaces\n",
    "                free_spaces = [spacei for spacei in self.gameboard if (self.gameboard[spacei] == 0)]\n",
    "                if free_spaces == []:\n",
    "                    return  #leave function if no free spaces in puzzle\n",
    "                free_spaces.sort()\n",
    "                self.focus_space = free_spaces[0]\n",
    "                return\n",
    "        # only reach here if none of the available numbers can go in this space, so we need to backtrack\n",
    "        # grab most recent placement from history, or if there is none then return\n",
    "        (space_last,n_last) = self.history[-1]\n",
    "        # the last space now becomes the focus space, since we are trying to fill that one again\n",
    "        self.focus_space = space_last\n",
    "        self.gameboard[space_last] = 0  #reset last space, since the last space made the puzzle unsolveable\n",
    "        self.avail_nums[space_last] = [x for x in self.avail_nums[space_last] if x != n_last]  #remove n_last from avail_nums for this space\n",
    "        # and now remove this from history\n",
    "        self.history = self.history[:-1]\n",
    "        # now pull the numbers that haven't been used yet\n",
    "        used = [x for x in self.gameboard.values() if x!= 0]\n",
    "        not_used = list(set([1,2,3,4,5,6,7,8,9,10,11,12]) - set(used))  #utilising set-minus\n",
    "        # now reset the avail_nums of all spaces ahead of the last space, so that their avail_nums is now the not_used list\n",
    "        self.avail_nums.update({empty_space: not_used for empty_space in [\n",
    "            spacei for spacei in self.gameboard if (self.gameboard[spacei] == 0) and spacei != space_last]\n",
    "            }\n",
    "        )\n",
    "\n",
    "    # finally define a function which will iteratively place numbers until it arrives at a valid solution\n",
    "    def solve_noloop(self):\n",
    "\n",
    "        # now enter a while, which we will only leave if we solve the puzzle\n",
    "        count = 0\n",
    "        while (self.board_solved() == False):\n",
    "            self.tryplace_focus()\n",
    "            count+=1\n",
    "        \n",
    "        # only reach here if we solve it\n",
    "        print(f\"solved in {count} iterations\")\n",
    "            \n",
    "\n",
    "\n",
    "\n",
    "\n"
   ]
  },
  {
   "cell_type": "code",
   "execution_count": 7,
   "metadata": {},
   "outputs": [],
   "source": [
    "b = Shrey()"
   ]
  },
  {
   "cell_type": "code",
   "execution_count": 10,
   "metadata": {},
   "outputs": [
    {
     "data": {
      "text/plain": [
       "{(0, 1): 0,\n",
       " (0, 2): 0,\n",
       " (0, 3): 0,\n",
       " (0, 4): 0,\n",
       " (1, 2): 0,\n",
       " (1, 4): 0,\n",
       " (1, 5): 0,\n",
       " (2, 3): 0,\n",
       " (2, 5): 0,\n",
       " (3, 4): 0,\n",
       " (3, 5): 0,\n",
       " (4, 5): 0}"
      ]
     },
     "execution_count": 10,
     "metadata": {},
     "output_type": "execute_result"
    }
   ],
   "source": [
    "b.gameboard"
   ]
  },
  {
   "cell_type": "code",
   "execution_count": 12,
   "metadata": {},
   "outputs": [
    {
     "data": {
      "text/plain": [
       "{(0, 1): [1, 2, 3, 4, 5, 6, 7, 8, 9, 10, 11, 12],\n",
       " (0, 2): [1, 2, 3, 4, 5, 6, 7, 8, 9, 10, 11, 12],\n",
       " (0, 3): [1, 2, 3, 4, 5, 6, 7, 8, 9, 10, 11, 12],\n",
       " (0, 4): [1, 2, 3, 4, 5, 6, 7, 8, 9, 10, 11, 12],\n",
       " (1, 2): [1, 2, 3, 4, 5, 6, 7, 8, 9, 10, 11, 12],\n",
       " (1, 4): [1, 2, 3, 4, 5, 6, 7, 8, 9, 10, 11, 12],\n",
       " (1, 5): [1, 2, 3, 4, 5, 6, 7, 8, 9, 10, 11, 12],\n",
       " (2, 3): [1, 2, 3, 4, 5, 6, 7, 8, 9, 10, 11, 12],\n",
       " (2, 5): [1, 2, 3, 4, 5, 6, 7, 8, 9, 10, 11, 12],\n",
       " (3, 4): [1, 2, 3, 4, 5, 6, 7, 8, 9, 10, 11, 12],\n",
       " (3, 5): [1, 2, 3, 4, 5, 6, 7, 8, 9, 10, 11, 12],\n",
       " (4, 5): [1, 2, 3, 4, 5, 6, 7, 8, 9, 10, 11, 12]}"
      ]
     },
     "execution_count": 12,
     "metadata": {},
     "output_type": "execute_result"
    }
   ],
   "source": [
    "b.avail_nums"
   ]
  },
  {
   "cell_type": "code",
   "execution_count": 4,
   "metadata": {},
   "outputs": [
    {
     "name": "stdout",
     "output_type": "stream",
     "text": [
      "\n",
      "                       (=0)\n",
      "           (=0)       00  \n",
      "              00   00   00   00 (=0) \n",
      "                 00        00\n",
      "        (=0)  00   00   00   00 \n",
      "                      00      (=0)\n",
      "                  (=0)\n",
      "            \n",
      "        \n"
     ]
    }
   ],
   "source": [
    "a = Shrey()\n",
    "a.view()\n"
   ]
  },
  {
   "cell_type": "code",
   "execution_count": 5,
   "metadata": {},
   "outputs": [
    {
     "name": "stdout",
     "output_type": "stream",
     "text": [
      "solved in 1914554 iterations\n"
     ]
    }
   ],
   "source": [
    "a.solve_noloop()\n"
   ]
  },
  {
   "cell_type": "code",
   "execution_count": 6,
   "metadata": {},
   "outputs": [
    {
     "name": "stdout",
     "output_type": "stream",
     "text": [
      "\n",
      "                       (=26)\n",
      "           (=26)       01  \n",
      "              08   02   09   07 (=26) \n",
      "                 11        10\n",
      "        (=26)  12   03   05   06 \n",
      "                      04      (=26)\n",
      "                  (=26)\n",
      "            \n",
      "        \n"
     ]
    }
   ],
   "source": [
    "a.view()"
   ]
  },
  {
   "cell_type": "code",
   "execution_count": 11,
   "metadata": {},
   "outputs": [
    {
     "data": {
      "text/plain": [
       "{(0, 1): 1,\n",
       " (0, 2): 2,\n",
       " (0, 3): 11,\n",
       " (0, 4): 12,\n",
       " (1, 2): 9,\n",
       " (1, 4): 6,\n",
       " (1, 5): 10,\n",
       " (2, 3): 8,\n",
       " (2, 5): 7,\n",
       " (3, 4): 3,\n",
       " (3, 5): 4,\n",
       " (4, 5): 5}"
      ]
     },
     "execution_count": 11,
     "metadata": {},
     "output_type": "execute_result"
    }
   ],
   "source": [
    "a.gameboard"
   ]
  },
  {
   "cell_type": "markdown",
   "metadata": {},
   "source": [
    "## rough"
   ]
  },
  {
   "cell_type": "code",
   "execution_count": 56,
   "metadata": {},
   "outputs": [],
   "source": [
    "# # sum the lines\n",
    "# line_sums = [sum([gameboard[space] for space in line_spaces[l]]) for l in line_spaces]    \n"
   ]
  },
  {
   "cell_type": "code",
   "execution_count": 106,
   "metadata": {},
   "outputs": [
    {
     "name": "stdout",
     "output_type": "stream",
     "text": [
      "\n",
      "            (=0)\n",
      "   (=0)     0  \n",
      "      0   0   0   0 (=0) \n",
      "        0       0\n",
      "(=0)  0   0   0   0 \n",
      "            0      (=0)\n",
      "      \n",
      "\n"
     ]
    }
   ],
   "source": [
    "# # (0,1) at top of star,\n",
    "# # next row is (2,3) then (0,2) then (1,2) then (2,5)\n",
    "# # next row is (0,3) then (1,5)\n",
    "# # next row is (0,4) then (3,4) then (4,5) then (1,4)\n",
    "# # finally (3,5)\n",
    "\n",
    "# viewstring = f'''\n",
    "#             (={line_sums[0]})\n",
    "#    (={line_sums[3]})     {a.gameboard[(0,1)]}  \n",
    "#       {a.gameboard[(2,3)]}   {a.gameboard[(0,2)]}   {a.gameboard[(1,2)]}   {a.gameboard[(2,5)]} (={line_sums[2]}) \n",
    "#         {a.gameboard[(0,3)]}       {a.gameboard[(1,5)]}\n",
    "# (={line_sums[4]})  {a.gameboard[(0,4)]}   {a.gameboard[(3,4)]}   {a.gameboard[(4,5)]}   {a.gameboard[(1,4)]} \n",
    "#             {a.gameboard[(0,1)]}      (={line_sums[0]})\n",
    "      \n",
    "# '''\n",
    "\n",
    "# print(viewstring)\n"
   ]
  }
 ],
 "metadata": {
  "kernelspec": {
   "display_name": "Python 3",
   "language": "python",
   "name": "python3"
  },
  "language_info": {
   "codemirror_mode": {
    "name": "ipython",
    "version": 3
   },
   "file_extension": ".py",
   "mimetype": "text/x-python",
   "name": "python",
   "nbconvert_exporter": "python",
   "pygments_lexer": "ipython3",
   "version": "3.8.10"
  },
  "vscode": {
   "interpreter": {
    "hash": "87065fc501b894730fde0c4d4a3b93976f67a5c160896ccd5de9d5e03c6a9cac"
   }
  }
 },
 "nbformat": 4,
 "nbformat_minor": 2
}
